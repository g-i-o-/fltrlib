{
 "cells": [
  {
   "cell_type": "code",
   "execution_count": null,
   "metadata": {
    "collapsed": false
   },
   "outputs": [],
   "source": [
    "%matplotlib inline\n",
    "import os\n",
    "import os.path\n",
    "import csv\n",
    "import numpy\n",
    "import scipy.stats\n",
    "import scipy.cluster\n",
    "import itertools\n",
    "import math\n",
    "import sys\n",
    "import sklearn.cluster\n",
    "import sklearn.decomposition\n",
    "import sklearn.manifold\n",
    "import skimage.filters\n",
    "import pandas\n",
    "from matplotlib import pylab, mlab\n",
    "import matplotlib.cm\n",
    "import matplotlib.patches\n",
    "import IPython.display\n",
    "# local modules (in same dir as this notebook)\n",
    "import plotutils\n",
    "import datautils\n",
    "import syspathutils\n"
   ]
  },
  {
   "cell_type": "code",
   "execution_count": null,
   "metadata": {
    "collapsed": false
   },
   "outputs": [],
   "source": [
    "base_path = os.path.realpath(os.path.join(os.path.curdir, '..'))\n",
    "data_path = os.path.join(base_path, 'samples')\n",
    "syspathutils.append_to_sys_path('/home/gio/langdev/gitclones/arbimon2-jobs/.env/lib/python2.7/site-packages/')\n",
    "syspathutils.append_to_sys_path('/home/gio/langdev/gitclones/arbimon2-jobs/lib/')"
   ]
  },
  {
   "cell_type": "code",
   "execution_count": null,
   "metadata": {
    "collapsed": false
   },
   "outputs": [],
   "source": [
    "import a2audio.rec\n",
    "import a2pyutils.storage\n",
    "import a2audio.segmentation\n",
    "import a2pyutils.convert"
   ]
  },
  {
   "cell_type": "code",
   "execution_count": null,
   "metadata": {
    "collapsed": false
   },
   "outputs": [],
   "source": [
    "datasets = {x.replace('sample', '').strip('_'):os.path.join(data_path, x) for x in os.listdir(data_path)}\n",
    "print '\\n'.join(\"{} : {}\".format(x, y) for x, y in datasets.items())"
   ]
  },
  {
   "cell_type": "code",
   "execution_count": null,
   "metadata": {
    "collapsed": false
   },
   "outputs": [],
   "source": [
    "# dataset = 'smithsonian'\n",
    "# dataset = 'el_verde1'\n",
    "dataset = 'sabana_seca1'\n",
    "# roi_filepath = ('/home/gio/langdev/gitclones/arbimon2-jobs/synth_output/rois.txt')\n",
    "\n",
    "roi_filepath = os.path.join(datasets[dataset], 'rois.txt')\n",
    "\n",
    "rois_data_ori = pandas.read_csv(roi_filepath)\n",
    "# compute tod and site name from recording filename\n",
    "rois_data_ori['tod'] = rois_data_ori['rec'].apply(lambda x: int(x.split('.')[0].split('_')[-1].split('-')[0]) if 'undefined' not in x else 0)\n",
    "# rois_data_ori['site'] = rois_data_ori['rec'].apply(lambda x: int(x.split('/')[0]) if 'undefined' not in x else 0)\n",
    "rois_data_ori['site'] = rois_data_ori['rec'].apply(lambda x: 1)\n",
    "\n",
    "print \"dataset:{}, sites:{}, recs:{}, rois:{}, rois per rec:{}\".format(\n",
    "    dataset,\n",
    "    len(rois_data_ori.groupby('site')), \n",
    "    len(rois_data_ori.groupby('rec')), \n",
    "    len(rois_data_ori), \n",
    "    len(rois_data_ori) * 1.0 / len(rois_data_ori.groupby('rec'))\n",
    ")"
   ]
  },
  {
   "cell_type": "code",
   "execution_count": null,
   "metadata": {
    "collapsed": false
   },
   "outputs": [],
   "source": [
    "stat_names = (\n",
    "    'tod',\n",
    "#     'site',\n",
    "#     'x', 'y', 'Sxx', 'Syy', 'Sxy', \n",
    "    'bw', \n",
    "    'dur', \n",
    "#     'muy', 'mux', \n",
    "#     'y', 'muy',\n",
    "    'y_max', \n",
    "#     'x_max',\n",
    "    'Cov',\n",
    "#     '1a_Sxx', '1a_Syy', '1a_Sxy', '1b_Sxx', '1b_Syy', '1b_Sxy', \n",
    "#     '1c_Sxx', '1c_Syy', '1c_Sxy', '1d_Sxx', '1d_Syy', '1d_Sxy'\n",
    ")\n",
    "\n",
    "rois_data = rois_data_ori\n",
    "# rois_data = rois_data_ori[rois_data_ori['site'] == 772]\n",
    "rois_data = rois_data[list(stat_names)]\n",
    "rois_data_names = tuple(stat_names)\n",
    "\n",
    "# H_bins = [10, 24,100,100,100,100,100]\n",
    "H_bins = [24, 100, 100, 100, 100]\n",
    "\n",
    "H, Hr = plotutils.sparse_histogramdd(rois_data, bins=H_bins)\n",
    "print \"rois:{}, histogram bins:{}, reduction:{}%\".format(len(rois_data), len(H), len(H) * 1.0 / len(rois_data))\n",
    "\n",
    "def filter_H(H, approx_count):\n",
    "    rng = numpy.arange(0, 7, .5)\n",
    "    rng = (1 - (rng-numpy.floor(rng))) * (10)**numpy.ceil(rng)\n",
    "    F = numpy.array([(i, len({h:H[h] for h in H if H[h] > i})) for i in rng])\n",
    "    x = numpy.argmin(numpy.log(F[:,1] / approx_count)**2)\n",
    "    return x, F[x,:]\n",
    "\n",
    "H_count_filter, H_count_filter_C = filter_H(H, 10)\n",
    "\n",
    "\n",
    "print H_count_filter, H_count_filter_C\n"
   ]
  },
  {
   "cell_type": "code",
   "execution_count": null,
   "metadata": {
    "collapsed": false
   },
   "outputs": [],
   "source": [
    "matplotlib.rcParams['font.size'] = 18\n",
    "\n",
    "# Some methods for formatting the plot ticks\n",
    "class TickFormat:\n",
    "    @staticmethod\n",
    "    def am_pm(x):\n",
    "        x=int(x)\n",
    "        return \"{}{}\".format(x%12 or 12, \"pm\" if x > 12 else \"am\")\n",
    "\n",
    "    @staticmethod\n",
    "    def kHz(x, prec=1):\n",
    "        return \"{}kHz\".format(int(x/(1000*prec))*prec)\n",
    "\n",
    "    @staticmethod\n",
    "    def kHz_1(x):\n",
    "        return TickFormat.kHz(x, .1)\n",
    "    \n",
    "    sec = \"%2ds\"\n",
    "\n",
    "    @staticmethod\n",
    "    def percent(x):\n",
    "        return \"{}%\".format(int(float(x)*100))\n",
    "\n",
    "def show_plot(var1, var2, fmt1, fmt2, b1, b2, X=None):\n",
    "    if X is None:\n",
    "        X = rois_data\n",
    "    pylab.figure(figsize=(10,10))\n",
    "    plotutils.density_contour_plot(X[var1], X[var2], bins=[b2, b1], interpolation=\"nearest\", log=True)\n",
    "    plotutils.set_plot_axis(pylab.gca(), 'x', visible=True, label=var1)\n",
    "    plotutils.set_plot_axis(pylab.gca(), 'y', visible=True, label=var2)\n",
    "    plotutils.set_tick_labels(pylab.gca(), 'x', fmt1 if callable(fmt1) else getattr(TickFormat, fmt1))\n",
    "    plotutils.set_tick_labels(pylab.gca(), 'y', fmt2 if callable(fmt2) else getattr(TickFormat, fmt2))"
   ]
  },
  {
   "cell_type": "code",
   "execution_count": null,
   "metadata": {
    "collapsed": false
   },
   "outputs": [],
   "source": [
    "\n",
    "H_plot_bins = H_bins\n",
    "pylab.figure(figsize=(20,20))\n",
    "pylab.locator_params(nbins=4, tight=True)\n",
    "plotutils.scatterplot_matrix(\n",
    "    rois_data.as_matrix(), \n",
    "    stat_names, \n",
    "    log=True, bins=[24] + [45]*4, \n",
    "#     interpolation=\"nearest\", \n",
    "    \n",
    "    tick_count = 3,\n",
    "    tick_fmt = [\n",
    "        TickFormat.am_pm,\n",
    "        TickFormat.kHz,\n",
    "        TickFormat.sec,\n",
    "        TickFormat.kHz,\n",
    "        TickFormat.percent\n",
    "    ],\n",
    "    interpolation=\"nearest\",\n",
    "    plotter = plotutils.density_contour_plot,\n",
    "    hist_plotter = plotutils.violin_contour_plot\n",
    ")"
   ]
  },
  {
   "cell_type": "code",
   "execution_count": null,
   "metadata": {
    "collapsed": false
   },
   "outputs": [],
   "source": [
    "areas_of_interest = pandas.read_csv(os.path.join(dataset_path, 'areas_of_interest.txt'))\n",
    "\n",
    "for i, aoi in areas_of_interest.iterrows():\n",
    "    print \"subregion:: {} <= bw <= {}, {} <= y_max <= {}\".format(aoi.bw_min, aoi.bw_max, aoi.y_max_min, aoi.y_max_max)\n",
    "\n",
    "\n",
    "show_plot('tod','y_max', 'am_pm', 'kHz', 24, 45)\n",
    "show_plot('bw','y_max', 'kHz', 'kHz', 45, 45)\n",
    "\n",
    "show_plot('bw', 'y_max', 'kHz', 'kHz', 45, 45)\n",
    "for i, aoi in areas_of_interest.iterrows():\n",
    "    xy = (aoi.bw_min, aoi.y_max_min)\n",
    "    w, h = aoi.bw_max - aoi.bw_min, aoi.y_max_max - aoi.y_max_min\n",
    "    pylab.gca().add_patch(matplotlib.patches.Rectangle(xy, w, h, edgecolor=\"red\", facecolor='none', linewidth=2))\n",
    "\n",
    "for i, aoi in areas_of_interest.iterrows():\n",
    "    xy = (aoi.bw_min, aoi.y_max_min)\n",
    "    w, h = aoi.bw_max - aoi.bw_min, aoi.y_max_max - aoi.y_max_min\n",
    "    br = max(w, h) * 3\n",
    "    limx0, limx1 = max(aoi.bw_min-br, rois_data['bw'].min()), min(aoi.bw_max+br, rois_data['bw'].max())\n",
    "    limy0, limy1 = max(aoi.y_max_min-br, rois_data['y_max'].min()), min(aoi.y_max_max+br, rois_data['y_max'].max())\n",
    "    pylab.figure(figsize=(10,10))\n",
    "    show_plot('bw', 'y_max', TickFormat.kHz_1, TickFormat.kHz_1, 45, 45)\n",
    "    pylab.gca().set_xlim(limx0, limx1)\n",
    "    pylab.gca().set_ylim(limy0, limy1)\n",
    "    pylab.gca().add_patch(matplotlib.patches.Rectangle(xy, w, h, edgecolor=\"red\", facecolor='none', linewidth=2))\n"
   ]
  },
  {
   "cell_type": "code",
   "execution_count": null,
   "metadata": {
    "collapsed": false
   },
   "outputs": [],
   "source": [
    "rois_subdata_sample_bounds = pandas.read_csv(os.path.join(dataset_path, 'aoi2_sampled_rois.txt'), index_col=0)\n",
    "rois_subdata_sample_full = rois_data_ori.loc[rois_subdata_sample_bounds.index]\n",
    "print \"entries:{}, cols:{}\".format(len(rois_subdata_sample_full), list(rois_subdata_sample_full.columns))"
   ]
  },
  {
   "cell_type": "code",
   "execution_count": null,
   "metadata": {
    "collapsed": false
   },
   "outputs": [],
   "source": [
    "sabana_seca1_sample_storage = a2pyutils.storage.from_uri(dataset_path)\n",
    "# region_rois_output = a2pyutils.storage.from_uri(os.path.join(dataset_path, 'aoi1_rois')\n",
    "\n",
    "idxx = [0]\n",
    "pylab.figure(figsize=(21,21))\n",
    "for i, (idx, roi_row) in enumerate(rois_subdata_sample_full.iloc[idxx].iterrows()):\n",
    "# for i, (idx, roi_row) in enumerate(rois_subdata_sample_full.iterrows()):\n",
    "    print \"{} of {}   idx:{} rec:{}\".format(i, len(rois_subdata_sample_full), idx, roi_row['rec'])\n",
    "    roi_rec = a2audio.rec.Rec(roi_row['rec'], '', sabana_seca1_sample_storage)\n",
    "    spectrum, freqs, times = roi_rec.getSpectrogram()\n",
    "    specDB = a2pyutils.convert.power2decibels(spectrum)\n",
    "    max_v = specDB.flatten().max()\n",
    "    duration = roi_rec.samples * 1.0 / roi_rec.sample_rate\n",
    "    max_freq = roi_rec.sample_rate / 2.0\n",
    "    px2sec = duration / specDB.shape[1]\n",
    "    px2Hz = max_freq / specDB.shape[0]\n",
    "    \n",
    "    x0, y1 = roi_row['x'], specDB.shape[0] - roi_row['y']\n",
    "    x1, y0 = x0 + roi_row['w'], y1 - roi_row['h']\n",
    "    \n",
    "    t0, t1 = x0 * px2sec, x1 * px2sec\n",
    "    f0, f1 = y0 * px2Hz, y1 * px2Hz\n",
    "    \n",
    "    pad=10\n",
    "    roi = datautils.clip_pad_and_draw_rgb_bounds(specDB, x0, x1,y0, y1, pad, (.25,1.0,.25))\n",
    "    \n",
    "    pylab.subplot(math.ceil(2*len(idxx)*1.0/2),2,2*i)\n",
    "    pylab.title(\"{}\\n ({}-{} s)-({}-{}Hz)\".format(roi_row['rec'],t0,t1,f0,f1))\n",
    "    pylab.imshow(\n",
    "         roi,\n",
    "         interpolation=\"nearest\",\n",
    "         origin='lower'\n",
    "    )\n",
    "\n",
    "\n",
    "    pylab.subplot(math.ceil(2*len(idxx)*1.0/2),2,2*i+1)\n",
    "    spec2samp = roi_rec.original.shape[0] * 1.0 / spectrum.shape[1]\n",
    "    samp_x0, samp_x1 = int((x0-pad)*spec2samp), int((x1+pad)*spec2samp+.5)\n",
    "    roi_clip = roi_rec.original[samp_x0:samp_x1]\n",
    "    pylab.plot(numpy.log10(abs(roi_clip)) * numpy.sign(roi_clip))\n",
    "    \n",
    "#     with region_rois_output.open_for_writing(\"roi2-{}.png\".format(i)) as fout:\n",
    "#         pylab.imsave(fout, \n",
    "#              roi,\n",
    "#              origin='lower'\n",
    "#         )"
   ]
  },
  {
   "cell_type": "code",
   "execution_count": null,
   "metadata": {
    "collapsed": false
   },
   "outputs": [],
   "source": [
    "idx = 13\n",
    "\n",
    "roi_row = rois_subdata_sample_full.iloc[idx]\n",
    "roi_rec = a2audio.rec.Rec(roi_row['rec'], '', sabana_seca1_sample_storage)\n",
    "spectrum, freqs, times = roi_rec.getSpectrogram()\n",
    "specDB = a2pyutils.convert.power2decibels(spectrum)\n",
    "max_v = specDB.flatten().max()\n",
    "duration = roi_rec.samples * 1.0 / roi_rec.sample_rate\n",
    "max_freq = roi_rec.sample_rate / 2.0\n",
    "px2sec = duration / specDB.shape[1]\n",
    "px2Hz = max_freq / specDB.shape[0]\n",
    "\n",
    "x0, y1 = roi_row['x'], specDB.shape[0] - roi_row['y']\n",
    "x1, y0 = x0 + roi_row['w'], y1 - roi_row['h']\n",
    "\n",
    "t0, t1 = x0 * px2sec, x1 * px2sec\n",
    "f0, f1 = y0 * px2Hz, y1 * px2Hz\n",
    "\n",
    "spec2samp = roi_rec.original.shape[0] * 1.0 / spectrum.shape[1]\n",
    "pad=10\n",
    "samp_x0, samp_x1 = int((x0-pad)*spec2samp), int((x1+pad)*spec2samp+.5)\n",
    "\n",
    "roi_clip = roi_rec.original[samp_x0:samp_x1]\n",
    "\n",
    "# filter_schedule = [0,0,0,1,1,2,2,3,3,3,2,2,1,1,0,0,0]\n",
    "filter_schedule = [0,0,0,1,1,2,2,3,4,5,5,5,4,3,2,2,1,1,0,0,0]\n",
    "\n",
    "roi_clip_bpf = numpy.concatenate([datautils.butter_bandpass_filter(roi_rec.original, f0, f1, roi_rec.sample_rate, order=1, passes=i)[samp_x0:samp_x1] for i in filter_schedule])\n",
    "\n",
    "pylab.figure(figsize=(15,5))\n",
    "pylab.suptitle(\"ROI #{}\".format(idx))\n",
    "pylab.plot(roi_clip_bpf)\n",
    "pylab.figure(figsize=(10,5))\n",
    "pylab.subplot(1,2,2)\n",
    "pylab.specgram(roi_clip, Fs=roi_rec.sample_rate)\n",
    "# pylab.hlines(f0, 0, )\n",
    "cb1=pylab.colorbar()\n",
    "pylab.subplot(1,2,1)\n",
    "pylab.specgram(roi_clip_bpf, Fs=roi_rec.sample_rate, vmin=cb1.vmin, vmax=cb1.vmax)\n",
    "\n",
    "IPython.display.display(IPython.display.Audio(roi_clip_bpf, rate=roi_rec.sample_rate))"
   ]
  }
 ],
 "metadata": {
  "kernelspec": {
   "display_name": "Python 2",
   "language": "python",
   "name": "python2"
  },
  "language_info": {
   "codemirror_mode": {
    "name": "ipython",
    "version": 2
   },
   "file_extension": ".py",
   "mimetype": "text/x-python",
   "name": "python",
   "nbconvert_exporter": "python",
   "pygments_lexer": "ipython2",
   "version": "2.7.6"
  }
 },
 "nbformat": 4,
 "nbformat_minor": 0
}
