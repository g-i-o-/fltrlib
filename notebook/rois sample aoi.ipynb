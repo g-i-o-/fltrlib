{
 "cells": [
  {
   "cell_type": "code",
   "execution_count": 1,
   "metadata": {
    "collapsed": false
   },
   "outputs": [],
   "source": [
    "%matplotlib inline\n",
    "import os\n",
    "import os.path\n",
    "import csv\n",
    "import numpy\n",
    "import scipy.stats\n",
    "import scipy.cluster\n",
    "import itertools\n",
    "import math\n",
    "import sys\n",
    "import sklearn.cluster\n",
    "import sklearn.decomposition\n",
    "import sklearn.manifold\n",
    "import skimage.filters\n",
    "import pandas\n",
    "from matplotlib import pylab, mlab\n",
    "import matplotlib.cm\n",
    "import matplotlib.patches\n",
    "import IPython.display\n",
    "# local modules (in same dir as this notebook)\n",
    "import plotutils\n",
    "import filterutils\n",
    "import syspathutils\n"
   ]
  },
  {
   "cell_type": "code",
   "execution_count": 2,
   "metadata": {
    "collapsed": false
   },
   "outputs": [],
   "source": [
    "base_path = os.path.realpath(os.path.join(os.path.curdir, '..'))\n",
    "data_path = os.path.join(base_path, 'samples')\n",
    "syspathutils.append_to_sys_path('/home/gio/langdev/gitclones/arbimon2-jobs/.env/lib/python2.7/site-packages/')\n",
    "syspathutils.append_to_sys_path('/home/gio/langdev/gitclones/arbimon2-jobs/lib/')"
   ]
  },
  {
   "cell_type": "code",
   "execution_count": 3,
   "metadata": {
    "collapsed": false
   },
   "outputs": [
    {
     "name": "stderr",
     "output_type": "stream",
     "text": [
      "/usr/local/lib/python2.7/dist-packages/skimage/filter/__init__.py:6: skimage_deprecation: The `skimage.filter` module has been renamed to `skimage.filters`.  This placeholder module will be removed in v0.13.\n",
      "  warn(skimage_deprecation('The `skimage.filter` module has been renamed '\n"
     ]
    }
   ],
   "source": [
    "import a2audio.rec\n",
    "import a2pyutils.storage\n",
    "import a2audio.segmentation\n",
    "import a2pyutils.convert"
   ]
  },
  {
   "cell_type": "code",
   "execution_count": 4,
   "metadata": {
    "collapsed": false
   },
   "outputs": [
    {
     "name": "stdout",
     "output_type": "stream",
     "text": [
      "el_verde1 : /home/gio/langdev/gitclones/mine/fltr-audio-seg/samples/el_verde1_sample\n",
      "sabana_seca1 : /home/gio/langdev/gitclones/mine/fltr-audio-seg/samples/sabana_seca1_sample\n",
      "smithsonian : /home/gio/langdev/gitclones/mine/fltr-audio-seg/samples/sample_smithsonian\n",
      "synth : /home/gio/langdev/gitclones/mine/fltr-audio-seg/samples/sample_synth\n"
     ]
    }
   ],
   "source": [
    "datasets = {x.replace('sample', '').strip('_'):os.path.join(data_path, x) for x in os.listdir(data_path)}\n",
    "print '\\n'.join(\"{} : {}\".format(x, y) for x, y in datasets.items())"
   ]
  },
  {
   "cell_type": "code",
   "execution_count": 21,
   "metadata": {
    "collapsed": false
   },
   "outputs": [
    {
     "name": "stdout",
     "output_type": "stream",
     "text": [
      "dataset:sabana_seca1, sites:1, recs:97, rois:28461, rois per rec:293.412371134\n"
     ]
    }
   ],
   "source": [
    "# dataset = 'smithsonian'\n",
    "# dataset = 'el_verde1'\n",
    "dataset = 'sabana_seca1'\n",
    "# roi_filepath = ('/home/gio/langdev/gitclones/arbimon2-jobs/synth_output/rois.txt')\n",
    "\n",
    "roi_filepath = os.path.join(datasets[dataset], 'rois.txt')\n",
    "\n",
    "rois_data_ori = pandas.read_csv(roi_filepath)\n",
    "# compute tod and site name from recording filename\n",
    "rois_data_ori['tod'] = rois_data_ori['rec'].apply(lambda x: int(x.split('.')[0].split('_')[-1].split('-')[0]) if 'undefined' not in x else 0)\n",
    "# rois_data_ori['site'] = rois_data_ori['rec'].apply(lambda x: int(x.split('/')[0]) if 'undefined' not in x else 0)\n",
    "rois_data_ori['site'] = rois_data_ori['rec'].apply(lambda x: 1)\n",
    "\n",
    "print \"dataset:{}, sites:{}, recs:{}, rois:{}, rois per rec:{}\".format(\n",
    "    dataset,\n",
    "    len(rois_data_ori.groupby('site')), \n",
    "    len(rois_data_ori.groupby('rec')), \n",
    "    len(rois_data_ori), \n",
    "    len(rois_data_ori) * 1.0 / len(rois_data_ori.groupby('rec'))\n",
    ")"
   ]
  },
  {
   "cell_type": "code",
   "execution_count": 34,
   "metadata": {
    "collapsed": false
   },
   "outputs": [
    {
     "name": "stdout",
     "output_type": "stream",
     "text": [
      "aoi #1 - total number of rois:2628, to sample:50 (1.902588%)\n",
      "aoi #2 - total number of rois:1922, to sample:50 (2.601457%)\n"
     ]
    }
   ],
   "source": [
    "areas_of_interest = pandas.read_csv(os.path.join(datasets[dataset], 'areas_of_interest.txt'), index_col='AOI')\n",
    "to_sample = 50\n",
    "for i, aoi in areas_of_interest.iterrows():\n",
    "    rois_subdata = rois_data_ori[\n",
    "        (float(aoi.bw_min) <= rois_data_ori.bw) & (rois_data_ori.bw <= float(aoi.bw_max)) & \n",
    "        (float(aoi.y_max_min) <= rois_data_ori.y_max) & (rois_data_ori.y_max <= float(aoi.y_max_max))\n",
    "    ]\n",
    "    print \"aoi #{0} - total number of rois:{1}, to sample:{2} ({3:%})\".format(i, len(rois_subdata), to_sample, to_sample * 1.0 / len(rois_subdata))\n",
    "#     rois_subdata_sample_full = rois_subdata.sample(to_sample)\n",
    "    \n",
    "#     rois_subdata_sample_full.to_csv(os.path.expanduser('~/langdev/gitclones/arbimon2-jobs/test_output/sabana_seca1_sample_output/sampled_region2_rois.txt'))\n",
    "\n",
    "# show_plot('bw','y_max', 'kHz', 'kHz', 6,6, X=rois_subdata)"
   ]
  },
  {
   "cell_type": "code",
   "execution_count": null,
   "metadata": {
    "collapsed": false
   },
   "outputs": [],
   "source": [
    "rois_subdata_sample_bounds = pandas.read_csv(os.path.expanduser('~/langdev/gitclones/arbimon2-jobs/test_output/sabana_seca1_sample_output/sampled_region_rois.txt'), index_col=0)\n",
    "rois_subdata_sample_full = rois_data_ori.loc[rois_subdata_sample_bounds.index]\n",
    "print \"entries:{}, cols:{}\".format(len(rois_subdata_sample_full), list(rois_subdata_sample_full.columns))"
   ]
  },
  {
   "cell_type": "code",
   "execution_count": null,
   "metadata": {
    "collapsed": false
   },
   "outputs": [],
   "source": [
    "def clip_pad_and_draw_rgb_bounds(X, x0, x1, y0, y1, pad, color):\n",
    "    h,w = X.shape\n",
    "    m, M = X.flatten().min(), X.flatten().max()\n",
    "    px0, px1, py0, py1 = max(x0-pad, 0), min(x1+pad, w-1), max(y0-pad, 0), min(y1+pad, h-1)\n",
    "    roi = 255 * (1 - (X[py0:py1,px0:px1] - m ) / (M - m))**.5\n",
    "    rH, rW = roi.shape\n",
    "    roiRGB = numpy.zeros((rH,rW,3), dtype=numpy.uint8)\n",
    "    x0, x1, y0, y1= x0-px0, x1-px0, y0-py0, y1-py0\n",
    "    for ch in range(3):\n",
    "        roiRGB[:,:,ch] = roi\n",
    "        roiRGB[y0,x0:(x1+1),ch] *= color[ch]\n",
    "        roiRGB[y1,x0:(x1+1),ch] *= color[ch]\n",
    "        roiRGB[(y0+1):(y1),x0,ch] *= color[ch]\n",
    "        roiRGB[(y0+1):(y1),x1,ch] *= color[ch]\n",
    "    \n",
    "    return roiRGB\n",
    "\n",
    "    \n",
    "\n",
    "sabana_seca1_sample_storage = a2pyutils.storage.from_uri('/home/gio/langdev/gitclones/mine/fltr-audio-seg/samples/sabana_seca1_sample/')\n",
    "region_rois_output = a2pyutils.storage.from_uri('/home/gio/langdev/gitclones/mine/fltr-audio-seg/samples/sabana_seca1_sample/region_bw_700_1900_ymax_2650_3550')\n",
    "# sabana_seca1_sample_path = '/home/gio/langdev/gitclones/mine/fltr-audio-seg/samples/sabana_seca1_sample/'\n",
    "# sabana_seca1_sample = os.listdir(sabana_seca1_sample_path)\n",
    "\n",
    "\n",
    "# idxx = range(len(rois_subdata_sample_full))\n",
    "idxx = [0]\n",
    "# idxx = [12,13,23, 40]\n",
    "# idxx = [12, 13, 15, 18, 21, 23, 31, 32, 37, 40, 41, 42, 47, 48]\n",
    "pylab.figure(figsize=(21,21))\n",
    "for i, (idx, roi_row) in enumerate(rois_subdata_sample_full.iloc[idxx].iterrows()):\n",
    "    print \"{} of {}   idx:{} rec:{}\".format(i, len(rois_subdata_sample_full), idx, roi_row['rec'])\n",
    "    roi_rec = a2audio.rec.Rec(roi_row['rec'], '', sabana_seca1_sample_storage)\n",
    "    spectrum, freqs, times = roi_rec.getSpectrogram()\n",
    "    specDB = a2pyutils.convert.power2decibels(spectrum)\n",
    "    max_v = specDB.flatten().max()\n",
    "    duration = roi_rec.samples * 1.0 / roi_rec.sample_rate\n",
    "    max_freq = roi_rec.sample_rate / 2.0\n",
    "    px2sec = duration / specDB.shape[1]\n",
    "    px2Hz = max_freq / specDB.shape[0]\n",
    "    \n",
    "    x0, y1 = roi_row['x'], specDB.shape[0] - roi_row['y']\n",
    "    x1, y0 = x0 + roi_row['w'], y1 - roi_row['h']\n",
    "    \n",
    "    t0, t1 = x0 * px2sec, x1 * px2sec\n",
    "    f0, f1 = y0 * px2Hz, y1 * px2Hz\n",
    "    \n",
    "    pad=10\n",
    "    roi = clip_pad_and_draw_rgb_bounds(specDB, x0, x1,y0, y1, pad, (.25,1.0,.25))\n",
    "    \n",
    "    pylab.subplot(math.ceil(2*len(idxx)*1.0/2),2,2*i)\n",
    "    pylab.title(\"{}\\n ({}-{} s)-({}-{}Hz)\".format(roi_row['rec'],t0,t1,f0,f1))\n",
    "    pylab.imshow(\n",
    "         roi,\n",
    "         interpolation=\"nearest\",\n",
    "         origin='lower'\n",
    "    )\n",
    "\n",
    "\n",
    "    pylab.subplot(math.ceil(2*len(idxx)*1.0/2),2,2*i+1)\n",
    "    spec2samp = roi_rec.original.shape[0] * 1.0 / spectrum.shape[1]\n",
    "    samp_x0, samp_x1 = int((x0-pad)*spec2samp), int((x1+pad)*spec2samp+.5)\n",
    "    roi_clip = roi_rec.original[samp_x0:samp_x1]\n",
    "    pylab.plot(numpy.log10(abs(roi_clip)) * numpy.sign(roi_clip))\n",
    "    \n",
    "#     with region_rois_output.open_for_writing(\"roi2-{}.png\".format(i)) as fout:\n",
    "#         pylab.imsave(fout, \n",
    "#              roi,\n",
    "#              origin='lower'\n",
    "#         )"
   ]
  },
  {
   "cell_type": "code",
   "execution_count": null,
   "metadata": {
    "collapsed": false
   },
   "outputs": [],
   "source": [
    "spec2samp = roi_rec.original.shape[0] * 1.0 / spectrum.shape[1]\n",
    "pad=10\n",
    "samp_x0, samp_x1 = int((x0-pad)*spec2samp), int((x1+pad)*spec2samp+.5)\n",
    "print f0,f1\n",
    "roi_clip = roi_rec.original[samp_x0:samp_x1]\n",
    "pylab.figure(figsize=(15,5))\n",
    "\n",
    "roi_clip_bpf = filterutils.butter_bandpass_filter(\n",
    "    roi_rec.original, f0, f1, roi_rec.sample_rate, order=7, passes=4\n",
    ")[samp_x0:samp_x1]\n",
    "# roi_clip_bpf =  roi_clip\n",
    "\n",
    "pylab.plot(roi_clip_bpf)\n",
    "\n",
    "pylab.figure(figsize=(10,5))\n",
    "pylab.subplot(1,2,1)\n",
    "pylab.specgram(roi_clip_bpf)\n",
    "pylab.subplot(1,2,2)\n",
    "pylab.specgram(roi_clip)\n",
    "\n",
    "IPython.display.display(IPython.display.Audio(roi_clip_bpf, rate=roi_rec.sample_rate))"
   ]
  },
  {
   "cell_type": "code",
   "execution_count": null,
   "metadata": {
    "collapsed": true
   },
   "outputs": [],
   "source": []
  },
  {
   "cell_type": "code",
   "execution_count": null,
   "metadata": {
    "collapsed": true
   },
   "outputs": [],
   "source": []
  },
  {
   "cell_type": "code",
   "execution_count": null,
   "metadata": {
    "collapsed": false
   },
   "outputs": [],
   "source": [
    "numpy.array([1j,2,3j,1+4j]).conjugate()"
   ]
  },
  {
   "cell_type": "code",
   "execution_count": null,
   "metadata": {
    "collapsed": false
   },
   "outputs": [],
   "source": [
    "for i_idx, i in enumerate(idxx):\n",
    "    print \"{}: \".format(i)\n",
    "    roi_row1 = rois_data_ori.iloc[i]\n",
    "    (roi1, roi1_bounds), _1, _2 = get_roi(roi_row1, sabana_seca1_sample_storage)\n",
    "    with region_rois_output.open_for_writing(\"data-roi-{}.png\".format(i)) as fout:\n",
    "        numpy.save(fout, roi1)\n"
   ]
  },
  {
   "cell_type": "code",
   "execution_count": null,
   "metadata": {
    "collapsed": true
   },
   "outputs": [],
   "source": [
    "def get_roi(RR, storage, pad=10):\n",
    "    roi_rec = a2audio.rec.Rec(RR['rec'], '', storage)\n",
    "    spectrum, freqs, times = roi_rec.getSpectrogram()\n",
    "    specDB = a2pyutils.convert.power2decibels(spectrum)\n",
    "    max_v = specDB.flatten().max()\n",
    "    duration = roi_rec.samples * 1.0 / roi_rec.sample_rate\n",
    "    max_freq = roi_rec.sample_rate / 2.0\n",
    "    px2sec = duration / specDB.shape[1]\n",
    "    px2Hz = max_freq / specDB.shape[0]\n",
    "\n",
    "    x0, y1 = RR['x'], specDB.shape[0] - RR['y']\n",
    "    x1, y0 = x0 + RR['w'], y1 - RR['h']\n",
    "    \n",
    "    return crop(specDB, x0, x1, y0, y1, pad), (duration, max_freq, max_v), (px2sec, px2Hz)\n",
    "\n",
    "def crop(X, x0, x1, y0, y1, pad=10):\n",
    "    h,w = X.shape\n",
    "    px0, px1, py0, py1 = max(x0-pad, 0), min(x1+pad, w-1), max(y0-pad, 0), min(y1+pad, h-1)\n",
    "    roi = X[py0:py1,px0:px1].astype(numpy.float32)\n",
    "    return roi, (px0, py0, px1, py1)\n",
    "\n",
    "def correl(X, Y):\n",
    "    (xh,xw), (yh,yw) = X.shape, Y.shape\n",
    "    pX = numpy.pad(X, ((0,yh),(0,yw)), mode='constant', constant_values=(float(numpy.median(X)),))\n",
    "    pY = numpy.pad(Y, ((xh,0),(xw,0)), mode='constant', constant_values=(float(numpy.median(Y)),))\n",
    "    fX, fY = numpy.fft.fft2(pX), numpy.fft.fft2(pY)\n",
    "    fCorr = (fX * fY.conjugate())\n",
    "    fCorr /= abs(fX) * abs(fY)\n",
    "    Corr = numpy.fft.ifft2(fCorr)\n",
    "    return abs(Corr)\n",
    "\n",
    "def roi_dist(roi1, roi2):\n",
    "    C = correl(roi1, roi2)\n",
    "#     pylab.imshow(C, interpolation=\"nearest\")\n",
    "    return C.max()\n",
    "\n",
    "\n",
    "sabana_seca1_sample_storage = a2pyutils.storage.from_uri('/home/gio/langdev/gitclones/mine/fltr-audio-seg/samples/sabana_seca1_sample/')\n",
    "region_rois_output = a2pyutils.storage.from_uri('/home/gio/langdev/gitclones/mine/fltr-audio-seg/samples/sabana_seca1_sample/region_bw_700_1900_ymax_2650_3550')\n",
    "# sabana_seca1_sample_path = '/home/gio/langdev/gitclones/mine/fltr-audio-seg/samples/sabana_seca1_sample/'\n",
    "# sabana_seca1_sample = os.listdir(sabana_seca1_sample_path)\n",
    "\n",
    "\n",
    "print \"total number of rois : {}\".format(len(rois_data_ori))\n",
    "\n",
    "idxx = range(len(rois_data_ori))\n",
    "# idxx = [12,13,23, 40]\n",
    "# idxx = [12, 13, 15, 18, 21, 23, 31, 32, 37, 40, 41, 42, 47, 48]\n",
    "# idxx = [0, 1, 2, 3, 4, 5]\n",
    "# pylab.figure(figsize=(21,21))\n",
    "\n",
    "with region_rois_output.open_for_writing(\"roi-dist.txt\") as fout:\n",
    "    fout.write(\"i, j, d\\n\")\n",
    "    for i_idx, i in enumerate(idxx):\n",
    "        print \"{}: \".format(i)\n",
    "        roi_row1 = rois_data_ori.iloc[i]\n",
    "        (roi1, roi1_bounds), _1, _2 = get_roi(roi_row1, sabana_seca1_sample_storage)\n",
    "        for j_idx, j in enumerate(idxx[i_idx+1:]):\n",
    "            roi_row2 = rois_data_ori.iloc[j]\n",
    "            (roi2, roi2_bounds), _1, _2 = get_roi(roi_row2, sabana_seca1_sample_storage)\n",
    "            d = roi_dist(roi1, roi2)\n",
    "            print \"   vs {} : sim : {}\".format(j, d)\n",
    "            fout.write(\"{}, {}, {}\\n\".format(i, j, d))\n",
    "# #     with region_rois_output.open_for_writing(\"roi2-{}.png\".format(i)) as fout:\n",
    "# #         pylab.imsave(fout, \n",
    "# #              roi,\n",
    "# #              origin='lower'\n",
    "# #         )"
   ]
  },
  {
   "cell_type": "code",
   "execution_count": null,
   "metadata": {
    "collapsed": false
   },
   "outputs": [],
   "source": [
    "(roi1, roi1_bounds), _1, _2 = get_roi(rois_data_ori.iloc[4], sabana_seca1_sample_storage)\n",
    "(roi2, roi2_bounds), _1, _2 = get_roi(rois_data_ori.iloc[5], sabana_seca1_sample_storage)\n",
    "(roi3, roi2_bounds), _1, _2 = get_roi(rois_data_ori.iloc[3], sabana_seca1_sample_storage)\n",
    "# d = roi_dist(roi1, roi2)\n",
    "pylab.subplot(1,3,1)\n",
    "pylab.imshow(roi1)\n",
    "pylab.subplot(1,3,2)\n",
    "pylab.imshow(roi2)\n",
    "pylab.subplot(1,3,3)\n",
    "pylab.imshow(roi3)\n"
   ]
  }
 ],
 "metadata": {
  "kernelspec": {
   "display_name": "Python 2",
   "language": "python",
   "name": "python2"
  },
  "language_info": {
   "codemirror_mode": {
    "name": "ipython",
    "version": 2
   },
   "file_extension": ".py",
   "mimetype": "text/x-python",
   "name": "python",
   "nbconvert_exporter": "python",
   "pygments_lexer": "ipython2",
   "version": "2.7.6"
  }
 },
 "nbformat": 4,
 "nbformat_minor": 0
}
