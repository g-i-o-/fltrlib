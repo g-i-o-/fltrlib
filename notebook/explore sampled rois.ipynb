{
 "cells": [
  {
   "cell_type": "code",
   "execution_count": null,
   "metadata": {
    "collapsed": false
   },
   "outputs": [],
   "source": [
    "%matplotlib inline\n",
    "import os\n",
    "import os.path\n",
    "import csv\n",
    "import numpy\n",
    "import scipy.stats\n",
    "import scipy.cluster\n",
    "import itertools\n",
    "import math\n",
    "import sys\n",
    "import sklearn.cluster\n",
    "import sklearn.decomposition\n",
    "import sklearn.manifold\n",
    "import skimage.filters\n",
    "import pandas\n",
    "from matplotlib import pylab, mlab\n",
    "import matplotlib.cm\n",
    "import matplotlib.patches\n",
    "import IPython.display\n",
    "# local modules (in same dir as this notebook)\n",
    "import plotutils\n",
    "import datautils\n",
    "import syspathutils\n"
   ]
  },
  {
   "cell_type": "code",
   "execution_count": null,
   "metadata": {
    "collapsed": false
   },
   "outputs": [],
   "source": [
    "base_path = os.path.realpath(os.path.join(os.path.curdir, '..'))\n",
    "data_path = os.path.join(base_path, 'samples')\n",
    "syspathutils.append_to_sys_path('/home/gio/langdev/gitclones/arbimon2-jobs/.env/lib/python2.7/site-packages/')\n",
    "syspathutils.append_to_sys_path('/home/gio/langdev/gitclones/arbimon2-jobs/lib/')"
   ]
  },
  {
   "cell_type": "code",
   "execution_count": null,
   "metadata": {
    "collapsed": false
   },
   "outputs": [],
   "source": [
    "import a2audio.rec\n",
    "import a2pyutils.storage\n",
    "import a2audio.segmentation\n",
    "import a2pyutils.convert"
   ]
  },
  {
   "cell_type": "code",
   "execution_count": null,
   "metadata": {
    "collapsed": false
   },
   "outputs": [],
   "source": [
    "datasets = {x.replace('sample', '').strip('_'):os.path.join(data_path, x) for x in os.listdir(data_path)}\n",
    "print '\\n'.join(\"{} : {}\".format(x, y) for x, y in datasets.items())"
   ]
  },
  {
   "cell_type": "code",
   "execution_count": null,
   "metadata": {
    "collapsed": false
   },
   "outputs": [],
   "source": [
    "# dataset = 'smithsonian'\n",
    "# dataset = 'el_verde1'\n",
    "dataset = 'sabana_seca1'\n",
    "# roi_filepath = ('/home/gio/langdev/gitclones/arbimon2-jobs/synth_output/rois.txt')\n",
    "dataset_path = datasets[dataset]"
   ]
  },
  {
   "cell_type": "code",
   "execution_count": null,
   "metadata": {
    "collapsed": false
   },
   "outputs": [],
   "source": [
    "matplotlib.rcParams['font.size'] = 18\n",
    "\n",
    "# Some methods for formatting the plot ticks\n",
    "class TickFormat:\n",
    "    @staticmethod\n",
    "    def am_pm(x):\n",
    "        x=int(x)\n",
    "        return \"{}{}\".format(x%12 or 12, \"pm\" if x > 12 else \"am\")\n",
    "\n",
    "    @staticmethod\n",
    "    def kHz(x, prec=1):\n",
    "        return \"{}kHz\".format(int(x/(1000*prec))*prec)\n",
    "\n",
    "    @staticmethod\n",
    "    def kHz_1(x):\n",
    "        return TickFormat.kHz(x, .1)\n",
    "    \n",
    "    sec = \"%2ds\"\n",
    "\n",
    "    @staticmethod\n",
    "    def percent(x):\n",
    "        return \"{}%\".format(int(float(x)*100))\n",
    "\n",
    "def show_plot(var1, var2, fmt1, fmt2, b1, b2, X=None):\n",
    "    if X is None:\n",
    "        X = rois_data\n",
    "    pylab.figure(figsize=(10,10))\n",
    "    plotutils.density_contour_plot(X[var1], X[var2], bins=[b2, b1], interpolation=\"nearest\", log=True)\n",
    "    plotutils.set_plot_axis(pylab.gca(), 'x', visible=True, label=var1)\n",
    "    plotutils.set_plot_axis(pylab.gca(), 'y', visible=True, label=var2)\n",
    "    plotutils.set_tick_labels(pylab.gca(), 'x', fmt1 if callable(fmt1) else getattr(TickFormat, fmt1))\n",
    "    plotutils.set_tick_labels(pylab.gca(), 'y', fmt2 if callable(fmt2) else getattr(TickFormat, fmt2))"
   ]
  },
  {
   "cell_type": "code",
   "execution_count": null,
   "metadata": {
    "collapsed": false
   },
   "outputs": [],
   "source": [
    "areas_of_interest = pandas.read_csv(os.path.join(dataset_path, 'areas_of_interest.txt'))\n",
    "\n",
    "for i, aoi in areas_of_interest.iterrows():\n",
    "    print \"subregion:: {} <= bw <= {}, {} <= y_max <= {}\".format(aoi.bw_min, aoi.bw_max, aoi.y_max_min, aoi.y_max_max)"
   ]
  },
  {
   "cell_type": "code",
   "execution_count": null,
   "metadata": {
    "collapsed": false
   },
   "outputs": [],
   "source": [
    "rois_subdata_sample_full = pandas.read_csv(os.path.join(dataset_path, 'aoi2_sampled_rois.txt'), index_col=0)\n",
    "rois_subdata_sample_sorted = rois_subdata_sample_full.sort(['rec','x'])\n",
    "# rois_subdata_sample_full = rois_data_ori.loc[rois_subdata_sample_bounds.index]\n",
    "print \"entries:{}, cols:{}\".format(len(rois_subdata_sample_full), list(rois_subdata_sample_full.columns))"
   ]
  },
  {
   "cell_type": "code",
   "execution_count": null,
   "metadata": {
    "collapsed": false
   },
   "outputs": [],
   "source": [
    "sabana_seca1_sample_storage = a2pyutils.storage.from_uri(dataset_path)\n",
    "# region_rois_output = a2pyutils.storage.from_uri(os.path.join(dataset_path, 'aoi1_rois')\n",
    "\n",
    "idxx = [28]\n",
    "pad=50\n",
    "\n",
    "for i, (idx, roi_row) in enumerate(rois_subdata_sample_full.iloc[idxx].iterrows()):\n",
    "    pylab.figure(figsize=(21,21))\n",
    "# for i, (idx, roi_row) in enumerate(rois_subdata_sample_full.iterrows()):\n",
    "    print \"{} of {}   idx:{} rec:{}\".format(i, len(rois_subdata_sample_full), idx, roi_row['rec'])\n",
    "    roi_rec = a2audio.rec.Rec(roi_row['rec'], '', sabana_seca1_sample_storage)\n",
    "    spectrum, freqs, times = roi_rec.getSpectrogram()\n",
    "    specDB = a2pyutils.convert.power2decibels(spectrum)\n",
    "    max_v = specDB.flatten().max()\n",
    "    duration = roi_rec.samples * 1.0 / roi_rec.sample_rate\n",
    "    max_freq = roi_rec.sample_rate / 2.0\n",
    "    px2sec = duration / specDB.shape[1]\n",
    "    px2Hz = max_freq / specDB.shape[0]\n",
    "    print \"rec: samples:{}, samplerate: {}, duration:{}, maxfreq:{}, scale({},{})\".format(roi_rec.samples, roi_rec.sample_rate,duration, max_freq, px2sec,px2Hz)\n",
    "    \n",
    "    x0, y1 = roi_row['x'], specDB.shape[0] - roi_row['y']\n",
    "    x1, y0 = x0 + roi_row['w'], y1 - roi_row['h']\n",
    "    \n",
    "    t0, t1 = x0 * px2sec, x1 * px2sec\n",
    "    f0, f1 = y0 * px2Hz, y1 * px2Hz\n",
    "    \n",
    "    roi = datautils.clip_pad_and_draw_rgb_bounds(specDB, x0, x1,y0, y1, pad, (.25,1.0,.25))\n",
    "    \n",
    "    pylab.title(\"{}\\n ({}-{} s)-({}-{}Hz)\\n ({}-{} s)-({}-{}Hz)\".format(roi_row['rec'],t0,t1,f0,f1, \n",
    "        roi_row['t0'], roi_row['t1'], roi_row['f0'], roi_row['f1']))\n",
    "    pylab.imshow(\n",
    "         roi,\n",
    "         interpolation=\"nearest\",\n",
    "         origin='lower'\n",
    "    )\n",
    "\n",
    "    \n",
    "#     with region_rois_output.open_for_writing(\"roi2-{}.png\".format(i)) as fout:\n",
    "#         pylab.imsave(fout, \n",
    "#              roi,\n",
    "#              origin='lower'\n",
    "#         )"
   ]
  },
  {
   "cell_type": "code",
   "execution_count": null,
   "metadata": {
    "collapsed": false
   },
   "outputs": [],
   "source": [
    "idx = 13\n",
    "\n",
    "roi_row = rois_subdata_sample_full.iloc[idx]\n",
    "roi_rec = a2audio.rec.Rec(roi_row['rec'], '', sabana_seca1_sample_storage)\n",
    "\n",
    "spec2samp = roi_rec.original.shape[0] * 1.0 / spectrum.shape[1]\n",
    "pad=10\n",
    "samp_x0, samp_x1 = int((x0-pad)*spec2samp), int((x1+pad)*spec2samp+.5)\n",
    "\n",
    "roi_clip = roi_rec.original[samp_x0:samp_x1]\n",
    "\n",
    "filter_schedule = [0,0,0,1,1,2,2,3,3,3,2,2,1,1,0,0,0]\n",
    "# filter_schedule = [0,0,0,1,1,2,2,3,4,5,5,5,4,3,2,2,1,1,0,0,0]\n",
    "\n",
    "roi_clip_bpf = numpy.concatenate([datautils.butter_bandpass_filter(roi_rec.original, f0, f1, roi_rec.sample_rate, order=1, passes=i)[samp_x0:samp_x1] for i in filter_schedule])\n",
    "\n",
    "pylab.figure(figsize=(15,5))\n",
    "pylab.suptitle(\"ROI #{}\".format(idx))\n",
    "pylab.plot(roi_clip_bpf)\n",
    "pylab.figure(figsize=(10,5))\n",
    "pylab.subplot(1,2,2)\n",
    "pylab.specgram(roi_clip, Fs=roi_rec.sample_rate)\n",
    "pylab.hlines(roi_row)\n",
    "cb1=pylab.colorbar()\n",
    "pylab.subplot(1,2,1)\n",
    "pylab.specgram(roi_clip_bpf, Fs=roi_rec.sample_rate, vmin=cb1.vmin, vmax=cb1.vmax)\n",
    "\n",
    "IPython.display.display(IPython.display.Audio(roi_clip_bpf, rate=roi_rec.sample_rate))"
   ]
  },
  {
   "cell_type": "code",
   "execution_count": null,
   "metadata": {
    "collapsed": false
   },
   "outputs": [],
   "source": [
    "reload(a2audio.rec)\n",
    "sabana_seca1_sample_storage = a2pyutils.storage.from_uri(dataset_path)\n",
    "# region_rois_output = a2pyutils.storage.from_uri(os.path.join(dataset_path, 'aoi1_rois')\n",
    "\n",
    "\n",
    "\n",
    "# idxx = [1, 38]\n",
    "for i, (idx, roi_row) in enumerate(rois_subdata_sample_sorted.iloc[[3]].iterrows()):\n",
    "# for i, (idx, roi_row) in enumerate(rois_subdata_sample_full.iterrows()):\n",
    "    roi_rec = a2audio.rec.Rec(roi_row['rec'], '', sabana_seca1_sample_storage)\n",
    "    spectrum, freqs, times = roi_rec.getSpectrogram()\n",
    "#     duration = roi_rec.original_sample_count * 1.0 / roi_rec.original_sample_rate\n",
    "#     duration = roi_rec.samples * 1.0 / roi_rec.sample_rate\n",
    "#     px2sec = duration / (roi_rec.samples / 256)\n",
    "    duration = roi_rec.samples * 1.0 / roi_rec.sample_rate\n",
    "    px2sec = duration / spectrum.shape[1]\n",
    "    max_freq = roi_rec.sample_rate / 2.0\n",
    "    px2Hz = max_freq / spectrum.shape[0]\n",
    "    \n",
    "    x0, y1 = roi_row['x'], spectrum.shape[0] - roi_row['y']\n",
    "    x1, y0 = x0 + roi_row['w'], y1 - roi_row['h']\n",
    "    \n",
    "    t0, t1 = x0 * px2sec, x1 * px2sec\n",
    "    f0, f1 = y0 * px2Hz, y1 * px2Hz\n",
    "    \n",
    "    print \"{},{},{}, {}, spec/data scale : {}\".format(\n",
    "        roi_row['rec'],\n",
    "        t0,t1,\n",
    "        (times[x0],times[x1]),\n",
    "        (roi_rec.samples) * 1.0 / spectrum.shape[1]\n",
    "    )\n"
   ]
  },
  {
   "cell_type": "code",
   "execution_count": null,
   "metadata": {
    "collapsed": false
   },
   "outputs": [],
   "source": [
    "SR=44100\n",
    "dur=60\n",
    "C0 = 440 * 2**(-9/12)\n",
    "def fib(n):\n",
    "    sqrt5 = 5**.5\n",
    "    phi = (1 + sqrt5)/2\n",
    "    return (phi**(n+1) - (1-phi)**(n+1)) / sqrt5\n",
    "MayorScale = lambda n: 2*(n%7) - (numpy.sign(n%7 - 2)+1)/2 + 12 * numpy.floor(n/7)\n",
    "PureTone = lambda t, x : numpy.cos(t * 2 * numpy.pi * C0 * 2 ** (MayorScale(fib(numpy.floor(numpy.pi*x)) % 7)/12.0))\n",
    "\n",
    "X = (lambda x, r, mu, sigma2: \n",
    "    (numpy.exp(-(((r*x)%1)/r - mu)**2/(2*sigma2)) +\n",
    "    numpy.exp(-((x%1) - mu)**2/(2*sigma2**2))) * PureTone(x, x)\n",
    ")(numpy.linspace(0, dur, SR*dur), 5, 1/(5*2.0), .005)\n",
    "\n",
    "Xspec, freqs, times = pylab.mlab.specgram(X, NFFT=512, Fs=SR, noverlap=256)\n",
    "\n",
    "pylab.figure(figsize=(15,5))\n",
    "pylab.subplot(1,2,1)\n",
    "pylab.imshow(numpy.log(Xspec), origin=\"bottom\", aspect=\"auto\")\n",
    "pylab.subplot(1,2,2)\n",
    "pylab.plot(X[0:int(SR*.1)])\n",
    "IPython.display.display(IPython.display.Audio(X, rate=SR))"
   ]
  },
  {
   "cell_type": "code",
   "execution_count": null,
   "metadata": {
    "collapsed": false
   },
   "outputs": [],
   "source": [
    "X2SR = 48000\n",
    "X2 = a2audio.rec.resample(X, float(X2SR)/float(SR) , 'sinc_best')\n",
    "X2spec, freqs, times = pylab.mlab.specgram(X2, NFFT=512, Fs=X2SR, noverlap=256)\n",
    "\n",
    "pylab.figure(figsize=(15,5))\n",
    "pylab.subplot(1,2,1)\n",
    "pylab.imshow(numpy.log(X2spec), origin=\"bottom\", aspect=\"auto\")\n",
    "pylab.subplot(1,2,2)\n",
    "pylab.plot(X2[0:int(X2SR*.1)])\n",
    "IPython.display.display(IPython.display.Audio(X2, rate=X2SR))"
   ]
  },
  {
   "cell_type": "code",
   "execution_count": null,
   "metadata": {
    "collapsed": false
   },
   "outputs": [],
   "source": [
    "x1_px2sec = X.shape[0] * 1.0 / Xspec.shape[1]\n",
    "x2_ps2sec = X2.shape[0] * 1.0 / X2spec.shape[1]\n",
    "x1_R_0, x1_R_1 = (lambda x0, w : (x0, x0+w))(105, 100)\n",
    "x2_R_0, x2_R_1 = x1_R_0 * x1_px2sec / x2_ps2sec, x1_R_1 * x1_px2sec / x2_ps2sec\n",
    "\n",
    "vmin, vmax= numpy.log(Xspec).min(), numpy.log(Xspec).max()\n",
    "\n",
    "pylab.figure(figsize=(15,5))\n",
    "pylab.subplot(1,2,1)\n",
    "pylab.imshow(numpy.log(Xspec), origin=\"bottom\", aspect=\"auto\", vmin=vmin,vmax=vmax)\n",
    "pylab.gca().set_xlim(x1_R_0, x1_R_1)\n",
    "pylab.subplot(1,2,2)\n",
    "pylab.imshow(numpy.log(X2spec), origin=\"bottom\", aspect=\"auto\", vmin=vmin,vmax=vmax)\n",
    "pylab.gca().set_xlim(x2_R_0, x2_R_1)\n"
   ]
  }
 ],
 "metadata": {
  "kernelspec": {
   "display_name": "Python 2",
   "language": "python",
   "name": "python2"
  },
  "language_info": {
   "codemirror_mode": {
    "name": "ipython",
    "version": 2
   },
   "file_extension": ".py",
   "mimetype": "text/x-python",
   "name": "python",
   "nbconvert_exporter": "python",
   "pygments_lexer": "ipython2",
   "version": "2.7.6"
  }
 },
 "nbformat": 4,
 "nbformat_minor": 0
}
