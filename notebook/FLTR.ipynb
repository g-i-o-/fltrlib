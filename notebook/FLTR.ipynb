{
 "cells": [
  {
   "cell_type": "code",
   "execution_count": null,
   "metadata": {
    "collapsed": false
   },
   "outputs": [],
   "source": [
    "%matplotlib inline\n",
    "import os\n",
    "import os.path\n",
    "import csv\n",
    "import numpy\n",
    "import scipy.stats\n",
    "import scipy.cluster\n",
    "import itertools\n",
    "import math\n",
    "import sys\n",
    "import sklearn.cluster\n",
    "import sklearn.decomposition\n",
    "import sklearn.manifold\n",
    "import skimage.filters\n",
    "import pandas\n",
    "from matplotlib import pylab, mlab\n",
    "import matplotlib.cm\n",
    "import IPython.display\n",
    "# local modules (in same dir as this notebook)\n",
    "import plotutils\n",
    "import syspathutils"
   ]
  },
  {
   "cell_type": "code",
   "execution_count": null,
   "metadata": {
    "collapsed": false
   },
   "outputs": [],
   "source": [
    "syspathutils.append_to_sys_path('/home/gio/langdev/gitclones/arbimon2-jobs/.env/lib/python2.7/site-packages/')\n",
    "syspathutils.append_to_sys_path('/home/gio/langdev/gitclones/arbimon2-jobs/lib/')"
   ]
  },
  {
   "cell_type": "code",
   "execution_count": null,
   "metadata": {
    "collapsed": false
   },
   "outputs": [],
   "source": [
    "import a2audio.rec\n",
    "import a2pyutils.storage\n",
    "import a2audio.segmentation\n",
    "import a2pyutils.convert"
   ]
  },
  {
   "cell_type": "code",
   "execution_count": null,
   "metadata": {
    "collapsed": true
   },
   "outputs": [],
   "source": [
    "def set_tick_labels(xticks=None, yticks=None):\n",
    "    if xticks:\n",
    "        pylab.gca().set_xticklabels(map(lambda x: xticks%x, pylab.gca().get_xticks().tolist()))\n",
    "    if yticks:\n",
    "        pylab.gca().set_yticklabels(map(lambda x: yticks%x, pylab.gca().get_yticks().tolist()))\n",
    "\n",
    "def compute_mask(spectrum, **params):\n",
    "    S = spectrum\n",
    "    p = params.get('percentile', 5)\n",
    "    r = params.get('radius', 10)\n",
    "    th = params.get('th', 'yen')\n",
    "    # remove the band medians\n",
    "    band_medians = numpy.percentile(S, 50, 1).tolist()\n",
    "    divide_by_median = lambda r, m: r / m.pop(0)\n",
    "    S_nomed = numpy.apply_along_axis(divide_by_median, 1, S, band_medians)\n",
    "    # compute the range\n",
    "    Smin = scipy.ndimage.percentile_filter(S_nomed, p, r)\n",
    "    Smax = scipy.ndimage.percentile_filter(S_nomed, 100 - p, r)\n",
    "    Srange = Smax-Smin\n",
    "    Sdb = a2pyutils.convert.power2decibels(Srange)\n",
    "\n",
    "    # threshold using yen or a given number\n",
    "    if th == 'yen':\n",
    "        th = skimage.filter.threshold_yen(Sdb)\n",
    "        Smask = Srange > th\n",
    "    else:\n",
    "        Smask = Sdb > th\n",
    "\n",
    "    return Smask, Srange, S_nomed, Sdb, S\n"
   ]
  },
  {
   "cell_type": "code",
   "execution_count": null,
   "metadata": {
    "collapsed": false
   },
   "outputs": [],
   "source": [
    "# rec_storage = a2pyutils.storage.from_uri('/home/gio/langdev/gitclones/mine/fltr-audio-seg/samples/el_verde1_sample/')\n",
    "rec_storage = a2pyutils.storage.from_uri('/home/gio/langdev/gitclones/mine/fltr-audio-seg/samples/sabana_seca1_sample/')\n",
    "# rec = a2audio.rec.Rec('el_verde1-2010-08-12_05-40.flac', '', rec_storage)\n",
    "rec = a2audio.rec.Rec('sabana_seca1-2008-03-28_22-08.flac', '', rec_storage)\n",
    "# rec = a2audio.rec.Rec('sabana_seca1-2010-08-05_09-50.flac', '', rec_storage)\n",
    "rec_spec = rec.getSpectrogram()[0]\n",
    "rec_duration = len(rec.original) * 1.0 / rec.sample_rate"
   ]
  },
  {
   "cell_type": "code",
   "execution_count": null,
   "metadata": {
    "collapsed": false
   },
   "outputs": [],
   "source": [
    "Smask, Srange, S_nomed, Sdb, S = compute_mask(rec_spec)\n",
    "Slabels = scipy.ndimage.measurements.label(Smask)[0]\n",
    "objs = scipy.ndimage.measurements.find_objects(Slabels)"
   ]
  },
  {
   "cell_type": "code",
   "execution_count": null,
   "metadata": {
    "collapsed": false
   },
   "outputs": [],
   "source": [
    "sc = rec.original.shape[0] * 1.0 / rec_spec.shape[1]\n",
    "i0 = 6000\n",
    "i1 = i0 + 1500\n",
    "j0, j1 = int(sc * i0), int(sc * i1)\n",
    "t0, t1 = j0 / rec.sample_rate, j1 / rec.sample_rate\n",
    "f0, f1 = 0, (rec.sample_rate / 2) / 1000.0\n",
    "print i0,i1, j0,j1\n",
    "\n",
    "pylab.figure(figsize=(20,5))\n",
    "pylab.plot([i / rec.sample_rate for i in xrange(j0, j1)], rec.original[j0:j1])\n",
    "set_tick_labels('%ds')\n",
    "\n",
    "for I in [\n",
    "    a2pyutils.convert.power2decibels(rec_spec),\n",
    "    a2pyutils.convert.power2decibels(S_nomed),\n",
    "    a2pyutils.convert.power2decibels(Srange)\n",
    "]:\n",
    "    pylab.figure(figsize=(20,5))\n",
    "    pylab.imshow(I[:, i0:i1], origin=\"bottom\", cmap=matplotlib.cm.jet,\n",
    "                extent=[t0,t1,f0,f1], aspect='auto')\n",
    "    pylab.colorbar()\n",
    "    set_tick_labels('%ds', '%dkHz')\n",
    "\n",
    "pylab.figure(figsize=(20,5))\n",
    "pylab.imshow(Smask[:, i0:i1], origin=\"bottom\", cmap=matplotlib.cm.Paired,\n",
    "        extent=[t0,t1,f0,f1], aspect='auto')\n",
    "pylab.colorbar()\n",
    "set_tick_labels('%ds', '%dkHz')\n",
    "    # pylab.figure(figsize=(20,5))\n",
    "# pylab.specgram(rec.original[j0:j1])\n",
    "# pylab.colorbar()\n",
    "q=1"
   ]
  },
  {
   "cell_type": "code",
   "execution_count": null,
   "metadata": {
    "collapsed": false
   },
   "outputs": [],
   "source": [
    "# Sdb1  = a2pyutils.convert.power2decibels(Srange)[:, i0:i1]\n",
    "Sdb1  = Srange[:, i0:i1]\n",
    "Sdb1[Sdb1 < 0] = 0\n",
    "Sdb1/=Sdb1.max()\n",
    "\n",
    "for i in range(0+1, 10+1, 2):\n",
    "    pylab.figure(figsize=(20,5))\n",
    "    pylab.imshow(Sdb1**i, origin=\"bottom\", cmap=matplotlib.cm.gist_earth, extent=[t0,t1,f0,f1], aspect='auto')\n",
    "#     Hx = numpy.arange(Xmin, Xmax, (Xmax - Xmin) / H.shape[1])\n",
    "#     Hy = numpy.arange(Ymin, Ymax, (Ymax - Ymin) / H.shape[0])\n"
   ]
  }
 ],
 "metadata": {
  "kernelspec": {
   "display_name": "Python 2",
   "language": "python",
   "name": "python2"
  },
  "language_info": {
   "codemirror_mode": {
    "name": "ipython",
    "version": 2
   },
   "file_extension": ".py",
   "mimetype": "text/x-python",
   "name": "python",
   "nbconvert_exporter": "python",
   "pygments_lexer": "ipython2",
   "version": "2.7.6"
  }
 },
 "nbformat": 4,
 "nbformat_minor": 0
}
